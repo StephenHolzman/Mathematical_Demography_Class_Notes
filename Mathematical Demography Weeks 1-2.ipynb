{
 "metadata": {
  "name": "",
  "signature": "sha256:764fce67c8c86ebd3b9f304150bca496204ac197aa1f4646283b77195e1e3221"
 },
 "nbformat": 3,
 "nbformat_minor": 0,
 "worksheets": [
  {
   "cells": [
    {
     "cell_type": "code",
     "collapsed": false,
     "input": [
      "%matplotlib inline\n",
      "import pylab\n",
      "import matplotlib.pyplot as plt\n",
      "import numpy\n",
      "from math import log\n",
      "import math\n",
      "import scipy\n",
      "from IPython.display import display\n",
      "from IPython.display import Math"
     ],
     "language": "python",
     "metadata": {},
     "outputs": [],
     "prompt_number": 1
    },
    {
     "cell_type": "heading",
     "level": 1,
     "metadata": {},
     "source": [
      "Mathematical Demography Week One"
     ]
    },
    {
     "cell_type": "markdown",
     "metadata": {},
     "source": [
      "k(t+1) = k(t) + Bt - Dt\n",
      "\n",
      "crude birth rate = Bt/Kt\n",
      "\n",
      "crude death rate = Dt/Kt\n",
      "\n"
     ]
    },
    {
     "cell_type": "code",
     "collapsed": false,
     "input": [
      "float(140)/6851 - float(57)/6851 #Growth rate from 6851m starting pop, 140m births, 57m deaths"
     ],
     "language": "python",
     "metadata": {},
     "outputs": [
      {
       "metadata": {},
       "output_type": "pyout",
       "prompt_number": 2,
       "text": [
        "0.012115019705152533"
       ]
      }
     ],
     "prompt_number": 2
    },
    {
     "cell_type": "code",
     "collapsed": false,
     "input": [
      "def crudegrowth(n,pop,birth,death):\n",
      "    population = pop*((1+(float(birth)/pop - float(death)/pop))**n)\n",
      "    return population"
     ],
     "language": "python",
     "metadata": {},
     "outputs": [],
     "prompt_number": 3
    },
    {
     "cell_type": "code",
     "collapsed": false,
     "input": [
      "crudegrowth(10,6851,140,57)\n"
     ],
     "language": "python",
     "metadata": {},
     "outputs": [
      {
       "metadata": {},
       "output_type": "pyout",
       "prompt_number": 4,
       "text": [
        "7727.742913277771"
       ]
      }
     ],
     "prompt_number": 4
    },
    {
     "cell_type": "code",
     "collapsed": false,
     "input": [
      "#Country population data pulled from wikipedia, ranging from 2010-2013. Just a quick visualization.\n",
      "x = numpy.linspace(0, 50, 50)\n",
      "plt.plot(x, crudegrowth(x,174,7.1,2.3), 'g--',label='Nigeria')  \n",
      "plt.plot(x, crudegrowth(x,320,4.0,2.5), 'b--',label='United States')\n",
      "plt.plot(x, crudegrowth(x,127,1.0,1.3), 'r--',label='Japan')\n",
      "plt.legend(loc='upper left')\n",
      "plt.xlabel('Years at Crude Growth Rate from Present')\n",
      "plt.ylabel('Population (millions)')\n",
      "plt.title('Crude Growth Rate Projections')\n",
      "pylab.ylim(ymin=0)"
     ],
     "language": "python",
     "metadata": {},
     "outputs": [
      {
       "metadata": {},
       "output_type": "pyout",
       "prompt_number": 5,
       "text": [
        "(0, 700.0)"
       ]
      },
      {
       "metadata": {},
       "output_type": "display_data",
       "png": "[encoded data removed]",
       "text": [
        "<matplotlib.figure.Figure at 0x10610be10>"
       ]
      }
     ],
     "prompt_number": 5
    },
    {
     "cell_type": "heading",
     "level": 1,
     "metadata": {},
     "source": [
      "Week 2, January 13th"
     ]
    },
    {
     "cell_type": "heading",
     "level": 3,
     "metadata": {},
     "source": [
      "Compound Growth"
     ]
    },
    {
     "cell_type": "code",
     "collapsed": false,
     "input": [
      "#Compunding h times per year over t yrs at annual rate r makes pop grow by multip\n",
      "def compoundgrowth(initial,h,rate,time):\n",
      "    future = initial * (1+float(rate)/h)**(h*time)\n",
      "    return future"
     ],
     "language": "python",
     "metadata": {},
     "outputs": [],
     "prompt_number": 6
    },
    {
     "cell_type": "markdown",
     "metadata": {},
     "source": [
      "As h approaches infinity, the limit of multiple is e^rt"
     ]
    },
    {
     "cell_type": "markdown",
     "metadata": {},
     "source": [
      "k(t)=k(0)*e^rt"
     ]
    },
    {
     "cell_type": "markdown",
     "metadata": {},
     "source": [
      "r = 1/t ln (k(t)/k(0))\n",
      "\n",
      "doubling time for rate r solves e^rt = 2"
     ]
    },
    {
     "cell_type": "heading",
     "level": 3,
     "metadata": {},
     "source": [
      "Functions to Find Missing Variables in Growth Formula"
     ]
    },
    {
     "cell_type": "code",
     "collapsed": false,
     "input": [
      "print \"Find a future population t years from 0.\"\n",
      "Math(r'k(t) = k(0)*e^{rt}')"
     ],
     "language": "python",
     "metadata": {},
     "outputs": [
      {
       "output_type": "stream",
       "stream": "stdout",
       "text": [
        "Find a future population t years from 0.\n"
       ]
      },
      {
       "latex": [
        "$$k(t) = k(0)*e^{rt}$$"
       ],
       "metadata": {},
       "output_type": "pyout",
       "prompt_number": 7,
       "text": [
        "<IPython.core.display.Math at 0x1060fcf10>"
       ]
      }
     ],
     "prompt_number": 7
    },
    {
     "cell_type": "code",
     "collapsed": false,
     "input": [
      "print \"Solved for the rate.\"\n",
      "Math(r'r = 1/t * ln(k(t)/k(0))')"
     ],
     "language": "python",
     "metadata": {},
     "outputs": [
      {
       "output_type": "stream",
       "stream": "stdout",
       "text": [
        "Solved for the rate.\n"
       ]
      },
      {
       "latex": [
        "$$r = 1/t * ln(k(t)/k(0))$$"
       ],
       "metadata": {},
       "output_type": "pyout",
       "prompt_number": 8,
       "text": [
        "<IPython.core.display.Math at 0x104496250>"
       ]
      }
     ],
     "prompt_number": 8
    },
    {
     "cell_type": "code",
     "collapsed": false,
     "input": [
      "print \"Solved for time.\"\n",
      "Math(r't = 1/r * ln(k(t)/k(0))')"
     ],
     "language": "python",
     "metadata": {},
     "outputs": [
      {
       "output_type": "stream",
       "stream": "stdout",
       "text": [
        "Solved for time.\n"
       ]
      },
      {
       "latex": [
        "$$t = 1/r * ln(k(t)/k(0))$$"
       ],
       "metadata": {},
       "output_type": "pyout",
       "prompt_number": 9,
       "text": [
        "<IPython.core.display.Math at 0x104496690>"
       ]
      }
     ],
     "prompt_number": 9
    },
    {
     "cell_type": "code",
     "collapsed": false,
     "input": [
      "print \"Solved for starting population.\"\n",
      "Math(r'k(0) = k(t)/e^{rt}')"
     ],
     "language": "python",
     "metadata": {},
     "outputs": [
      {
       "output_type": "stream",
       "stream": "stdout",
       "text": [
        "Solved for starting population.\n"
       ]
      },
      {
       "latex": [
        "$$k(0) = k(t)/e^{rt}$$"
       ],
       "metadata": {},
       "output_type": "pyout",
       "prompt_number": 10,
       "text": [
        "<IPython.core.display.Math at 0x104496b90>"
       ]
      }
     ],
     "prompt_number": 10
    },
    {
     "cell_type": "code",
     "collapsed": false,
     "input": [
      "#Functions to find missing variable\n",
      "#Future = Projected Population\n",
      "#Initial = Current Population\n",
      "#Rate = Rate of Growth per unit of time\n",
      "#Time = Unit of time.\n",
      "def findrate(future,initial,time):\n",
      "    rate = log(future/float(initial))/(float(time))\n",
      "    return rate\n",
      "\n",
      "def findinitial(future,rate,time):\n",
      "    initial = future/(math.e**(rate*time))\n",
      "    return initial\n",
      "\n",
      "def findfuture(initial,rate,time):\n",
      "    future = initial*(math.e**(rate*time))\n",
      "    return future\n",
      "\n",
      "def findtime(future,initial,rate):\n",
      "    time = log(future/float(initial))/(float(rate))\n",
      "    return time\n",
      "\n",
      "#For the aggregated findmissing function, use the string \"x\" in place of the variable you are missing\n",
      "def findmissing(initial,future,rate,time):\n",
      "    if initial == \"x\":\n",
      "        return findinitial(future,rate,time)\n",
      "    elif future == \"x\":\n",
      "        return findfuture(initial,rate,time)\n",
      "    elif rate == \"x\":\n",
      "        return findrate(future,initial,time)\n",
      "    elif time == \"x\":\n",
      "        return findtime(future,initial,rate)\n",
      "    else:\n",
      "        return \"error\""
     ],
     "language": "python",
     "metadata": {},
     "outputs": [],
     "prompt_number": 11
    },
    {
     "cell_type": "code",
     "collapsed": false,
     "input": [
      "#Missing variable finders check\n",
      "print findrate(98000,100000,5)\n",
      "print findinitial(98000,-.0040405414635,5)\n",
      "print findfuture(100000,-.0040405414635,5)\n",
      "print findtime(98000,100000,-.0040405414635)\n",
      "print findmissing(100000,98000,\"x\",5)\n",
      "print findmissing(\"x\",98000,-.0040405414635,5)\n",
      "print findmissing(100000,\"x\",-.0040405414635,5)\n",
      "print findmissing(100000,98000,-.0040405414635,\"x\")"
     ],
     "language": "python",
     "metadata": {},
     "outputs": [
      {
       "output_type": "stream",
       "stream": "stdout",
       "text": [
        "-0.0040405414635\n",
        "100000.0\n",
        "98000.0\n",
        "5.0\n",
        "-0.0040405414635\n",
        "100000.0\n",
        "98000.0\n",
        "5.0\n"
       ]
      }
     ],
     "prompt_number": 12
    },
    {
     "cell_type": "code",
     "collapsed": false,
     "input": [
      "print \"As H approaches infinity, the limit is e^(r*t). Example starts at 100, rate = .05, time = 1 year\"\n",
      "print \"Compounded 2 times in one year = \" + str(compoundgrowth(100,2,.05,1))\n",
      "print \"Compounded 100 times in one year = \" + str(compoundgrowth(100,100,.05,1))\n",
      "print \"Compounded 200 times in one year = \" + str(compoundgrowth(100,200,.05,1))\n",
      "print \"Compounded 10000 times in one year = \" + str(compoundgrowth(100,10000,.05,1))\n",
      "print \"Natural limit = \" + str(findfuture(100,.05,1))"
     ],
     "language": "python",
     "metadata": {},
     "outputs": [
      {
       "output_type": "stream",
       "stream": "stdout",
       "text": [
        "As H approaches infinity, the limit is e^(r*t). Example starts at 100, rate = .05, time = 1 year\n",
        "Compounded 2 times in one year = 105.0625\n",
        "Compounded 100 times in one year = 105.125795995\n",
        "Compounded 200 times in one year = 105.126452705\n",
        "Compounded 10000 times in one year = 105.127096497\n",
        "Natural limit = 105.127109638\n"
       ]
      }
     ],
     "prompt_number": 13
    },
    {
     "cell_type": "heading",
     "level": 3,
     "metadata": {},
     "source": [
      "Example Questions: Brazil, Pakistan, Nigeria"
     ]
    },
    {
     "cell_type": "markdown",
     "metadata": {},
     "source": [
      "1. Brazil 194m, r = .011\n",
      "2. Pakistan 188m, r = .021\n",
      "3. Nigeria 170m, r = .024"
     ]
    },
    {
     "cell_type": "code",
     "collapsed": false,
     "input": [
      "#Find how long until country doubles in population\n",
      "print \"Brazil's population will double in \" + str(findtime((194*2),194,.011)) + \" years.\"\n",
      "print \"Pakistan's population will double in \" + str(findtime((188*2),188,.021)) + \" years.\"\n",
      "print \"Nigeria's population will double in \" + str(findtime((170*2),170,.024)) + \" years.\""
     ],
     "language": "python",
     "metadata": {},
     "outputs": [
      {
       "output_type": "stream",
       "stream": "stdout",
       "text": [
        "Brazil's population will double in 63.0133800509 years.\n",
        "Pakistan's population will double in 33.0070085981 years.\n",
        "Nigeria's population will double in 28.8811325233 years.\n"
       ]
      }
     ],
     "prompt_number": 14
    },
    {
     "cell_type": "code",
     "collapsed": false,
     "input": [
      "#Find population in a particular year.\n",
      "print \"Brazil's population will be \" + str(findfuture(194,.011,8)) + \" million in 8 years\"\n",
      "print \"Pakistan's population will be \" + str(findfuture(188,.021,8)) + \" million in 8 years\"\n",
      "print \"Nigeria's population will be \" +  str(findfuture(170,.024,8)) + \" million in 8 years\""
     ],
     "language": "python",
     "metadata": {},
     "outputs": [
      {
       "output_type": "stream",
       "stream": "stdout",
       "text": [
        "Brazil's population will be 211.845695673 million in 8 years\n",
        "Pakistan's population will be 222.392082802 million in 8 years\n",
        "Nigeria's population will be 205.983987884 million in 8 years\n"
       ]
      }
     ],
     "prompt_number": 15
    },
    {
     "cell_type": "heading",
     "level": 3,
     "metadata": {},
     "source": [
      "Example Questions: India & China"
     ]
    },
    {
     "cell_type": "code",
     "collapsed": false,
     "input": [
      "#When will India hit 2 billion? future = 2000m initial = 1236.6m, r = .013, \n",
      "print \"India will hit 2 billion in \" + str(findtime(2000,1236.6,.013)) + \" years.\"\n",
      "\n",
      "#China's population in 60 years? initial= 1357.7, time = 60, r = .005\n",
      "print \"China's population will be \" + str(findfuture(1357.7,.005,60)) + \" million in 60 years.\"\n",
      "\n",
      "\n",
      "#At current rates, when will India's population pass china?\n",
      "#Plot the functions to get an idea of what our answer should be.\n",
      "x = numpy.linspace(0, 15, 100)\n",
      "plt.plot(x, findfuture(1357.7,.005,x), 'r-',label='China')  \n",
      "plt.plot(x, findfuture(1236.6,.013,x), 'k-',label='India')\n",
      "plt.legend(loc='upper left')\n",
      "plt.xlabel('Years from t(0)')\n",
      "plt.ylabel('Population (millions)')\n",
      "plt.title('When India Will Pass China')\n",
      "\n",
      "#Set findfuture(country1) and findfuture(country2) equal, solve for time, end up with the following equation.\n",
      "#Plug the time back in to either findfuture function to see what the population will be when they intersect.\n",
      "def growth_intersect(init1,rate1,init2,rate2):\n",
      "    time = abs(log(init1)-log(init2))/abs(rate1-rate2)\n",
      "    population = findfuture(init1,rate1,time)\n",
      "    print \"The two populations will intersect in \" + str(time) + \" years.\"\n",
      "    print \"The two populations will be \" + str(population) + \" when they intersect.\"\n",
      "    return time, population\n",
      "\n",
      "growth_intersect(1357.7,.005,1236.6,.013)\n"
     ],
     "language": "python",
     "metadata": {},
     "outputs": [
      {
       "output_type": "stream",
       "stream": "stdout",
       "text": [
        "India will hit 2 billion in 36.9831924937 years.\n",
        "China's population will be 1832.70330305 million in 60 years.\n",
        "The two populations will intersect in 11.6783016852 years."
       ]
      },
      {
       "output_type": "stream",
       "stream": "stdout",
       "text": [
        "\n",
        "The two populations will be 1439.33845251 when they intersect.\n"
       ]
      },
      {
       "metadata": {},
       "output_type": "pyout",
       "prompt_number": 16,
       "text": [
        "(11.678301685220882, 1439.3384525123568)"
       ]
      },
      {
       "metadata": {},
       "output_type": "display_data",
       "png": "[encoded data removed]",
       "text": [
        "<matplotlib.figure.Figure at 0x106142510>"
       ]
      }
     ],
     "prompt_number": 16
    },
    {
     "cell_type": "heading",
     "level": 3,
     "metadata": {},
     "source": [
      "Projecting Growth with a Changing Rate"
     ]
    },
    {
     "cell_type": "code",
     "collapsed": false,
     "input": [
      "def growth2periods(initial,rate1,time1,rate2,time2):\n",
      "    future = initial*((math.e)**(rate1*time1+rate2*time2))\n",
      "    return future\n",
      "\n",
      "#Check our function against what we know works.\n",
      "check = findfuture(100,.01,1)\n",
      "growth2check = findfuture(check,.02,1)\n",
      "print growth2periods(100,.01,1,.02,1)\n",
      "print growth2check"
     ],
     "language": "python",
     "metadata": {},
     "outputs": [
      {
       "output_type": "stream",
       "stream": "stdout",
       "text": [
        "103.045453395\n",
        "103.045453395\n"
       ]
      }
     ],
     "prompt_number": 18
    },
    {
     "cell_type": "code",
     "collapsed": false,
     "input": [
      "1/(2000/float(494983.83))"
     ],
     "language": "python",
     "metadata": {},
     "outputs": [
      {
       "metadata": {},
       "output_type": "pyout",
       "prompt_number": 19,
       "text": [
        "247.49191500000003"
       ]
      }
     ],
     "prompt_number": 19
    },
    {
     "cell_type": "code",
     "collapsed": false,
     "input": [
      "#Nigeria comparison with crude growth rates from week one.\n",
      "x = numpy.linspace(0, 50, 100)\n",
      "plt.plot(x, crudegrowth(x,174,7.1,2.3), 'g--',label='Crude')\n",
      "plt.plot(x, findfuture(174,.024,x), 'b-',label='Continuously Compounded')\n",
      "plt.legend(loc='upper left')\n",
      "plt.xlabel('Years from Present')\n",
      "plt.ylabel('Population (millions)')\n",
      "plt.title('Nigeria Growth Rate Projections')\n",
      "pylab.ylim(ymin=0)"
     ],
     "language": "python",
     "metadata": {},
     "outputs": [
      {
       "metadata": {},
       "output_type": "pyout",
       "prompt_number": 20,
       "text": [
        "(0, 700.0)"
       ]
      },
      {
       "metadata": {},
       "output_type": "display_data",
       "png": "[encoded data removed]",
       "text": [
        "<matplotlib.figure.Figure at 0x1063b46d0>"
       ]
      }
     ],
     "prompt_number": 20
    },
    {
     "cell_type": "heading",
     "level": 3,
     "metadata": {},
     "source": [
      "Calculating Person-Years"
     ]
    },
    {
     "cell_type": "code",
     "collapsed": false,
     "input": [
      "#Bit of calculus required.\n",
      "from scipy.integrate import quad\n",
      "def integrand(x):\n",
      "    return findfuture(100000,-.0040405414635,x)\n",
      "print scipy.integrate.quad(integrand,0,5)\n",
      "\n",
      "check = 100000*(1-math.e**(-.0040405414635*5))/.0040405414635\n",
      "print check\n",
      "\n",
      "#Mortality rate. \n",
      "print 1/(2000/float(494983.83))"
     ],
     "language": "python",
     "metadata": {},
     "outputs": [
      {
       "output_type": "stream",
       "stream": "stdout",
       "text": [
        "(494983.16452509636, 5.4954170605758395e-09)\n",
        "494983.164525\n",
        "247.491915\n"
       ]
      }
     ],
     "prompt_number": 27
    },
    {
     "cell_type": "code",
     "collapsed": false,
     "input": [
      "#The shaded area represents person-years lived by the cohort, or 494,983.16.\n",
      "from pylab import *\n",
      "from matplotlib.patches import Polygon\n",
      "\n",
      "def func(x):\n",
      "    return findfuture(100000,-.0040405414635,x)\n",
      "\n",
      "ax = subplot(111)\n",
      "\n",
      "a, b = 0, 5 # integral area\n",
      "x = arange(0, 5, 0.01)\n",
      "y = func(x)\n",
      "plot(x, y, linewidth=1)\n",
      "\n",
      "# make the shaded region\n",
      "ix = arange(a, b, 0.01)\n",
      "iy = func(ix)\n",
      "verts = [(a,0)] + list(zip(ix,iy)) + [(b,0)]\n",
      "poly = Polygon(verts, facecolor='0.8', edgecolor='k')\n",
      "ax.add_patch(poly)\n",
      "\n",
      "\n",
      "axis([0,10, 0, 100000])\n",
      "figtext(0.9, 0.05, 'x')\n",
      "#ax.set_xticks((a,b))\n",
      "pylab.ylim(ymin=90000)\n",
      "plt.xlabel('Years from t(0)')\n",
      "plt.ylabel('Population')\n",
      "show()"
     ],
     "language": "python",
     "metadata": {},
     "outputs": [
      {
       "metadata": {},
       "output_type": "display_data",
       "png": "[encoded data removed]",
       "text": [
        "<matplotlib.figure.Figure at 0x10637af50>"
       ]
      }
     ],
     "prompt_number": 22
    },
    {
     "cell_type": "code",
     "collapsed": false,
     "input": [
      "#Everything done above, but in a function.\n",
      "#One function to find person years lived, graph the growth function, and graph the area representing personyears.\n",
      "def personyearslivedgraph(initial,rate,startyear,endyear):\n",
      "    def integrand(x):\n",
      "        return findmissing(initial,\"x\",rate,x)\n",
      "    def func(x):\n",
      "        return findmissing(initial,\"x\",rate,x)\n",
      "\n",
      "    ax = subplot(111)\n",
      "\n",
      "    a, b = startyear, endyear # integral area\n",
      "    #x = arange(startyear, endyear, 0.01)\n",
      "    x = numpy.linspace(0, 120, 100)\n",
      "    y = func(x)\n",
      "    plot(x, y, linewidth=1)\n",
      "\n",
      "    # make the shaded region\n",
      "    ix = arange(a, b, 0.01)\n",
      "    iy = func(ix)\n",
      "    verts = [(a,0)] + list(zip(ix,iy)) + [(b,0)]\n",
      "    poly = Polygon(verts, facecolor='0.8', edgecolor='k')\n",
      "    ax.add_patch(poly)\n",
      "\n",
      "\n",
      "    axis([0,120, 0, initial])\n",
      "    figtext(0.9, 0.05, 'x')\n",
      "    #ax.set_xticks((a,b))\n",
      "    #pylab.ylim(ymin=90000)\n",
      "    plt.xlabel('Years from t(0)')\n",
      "    plt.ylabel('Population')\n",
      "    show()\n",
      "    return scipy.integrate.quad(integrand,startyear,endyear)\n",
      "\n",
      "def personyearslived(initial,rate,startyear,endyear):\n",
      "    def integrand(x):\n",
      "        return findmissing(initial,\"x\",rate,x)\n",
      "    return scipy.integrate.quad(integrand,startyear,endyear)"
     ],
     "language": "python",
     "metadata": {},
     "outputs": [],
     "prompt_number": 51
    },
    {
     "cell_type": "code",
     "collapsed": false,
     "input": [
      "print personyearslivedgraph(100000,-.01,0,50)"
     ],
     "language": "python",
     "metadata": {},
     "outputs": [
      {
       "metadata": {},
       "output_type": "display_data",
       "png": "[encoded data removed]",
       "text": [
        "<matplotlib.figure.Figure at 0x106d3b0d0>"
       ]
      },
      {
       "output_type": "stream",
       "stream": "stdout",
       "text": [
        "(3934693.4028736656, 4.368387210711051e-08)\n"
       ]
      }
     ],
     "prompt_number": 52
    },
    {
     "cell_type": "heading",
     "level": 1,
     "metadata": {},
     "source": [
      "Week 2, January 15"
     ]
    },
    {
     "cell_type": "code",
     "collapsed": false,
     "input": [
      "#1/(2000/float(494983.83))\n",
      "def mortalityrate(deaths,personyears):\n",
      "    return (deaths/personyears)\n",
      "def numberdead(initial,future,rate,startyear,endyear):\n",
      "    personyears = personyearslived(initial,rate,startyear,endyear)[0]\n",
      "    return 1/((initial-future)/float(personyears))"
     ],
     "language": "python",
     "metadata": {},
     "outputs": [],
     "prompt_number": 164
    },
    {
     "cell_type": "code",
     "collapsed": false,
     "input": [
      "#Formula for determining probability of survival\n",
      "def probsurvive(m,t):\n",
      "    return math.e**(-m*t)"
     ],
     "language": "python",
     "metadata": {},
     "outputs": [],
     "prompt_number": 165
    },
    {
     "cell_type": "code",
     "collapsed": false,
     "input": [
      "print mortalityrate(2000,personyearslived(100000,-.0040405414635,0,5)[0])\n",
      "print numberdead(100000,98000,-.0040405414635,0,5)\n"
     ],
     "language": "python",
     "metadata": {},
     "outputs": [
      {
       "output_type": "stream",
       "stream": "stdout",
       "text": [
        "0.0040405414635\n",
        "247.491582263\n"
       ]
      }
     ],
     "prompt_number": 166
    },
    {
     "cell_type": "code",
     "collapsed": false,
     "input": [
      "for x in range (1,21):\n",
      "    print str(x) + \" = \" + str(probsurvive(.5,x))"
     ],
     "language": "python",
     "metadata": {},
     "outputs": [
      {
       "output_type": "stream",
       "stream": "stdout",
       "text": [
        "1 = 0.606530659713\n",
        "2 = 0.367879441171\n",
        "3 = 0.223130160148\n",
        "4 = 0.135335283237\n",
        "5 = 0.0820849986239\n",
        "6 = 0.0497870683679\n",
        "7 = 0.0301973834223\n",
        "8 = 0.0183156388887\n",
        "9 = 0.0111089965382\n",
        "10 = 0.00673794699909\n",
        "11 = 0.00408677143846\n",
        "12 = 0.00247875217667\n",
        "13 = 0.00150343919298\n",
        "14 = 0.000911881965555\n",
        "15 = 0.000553084370148\n",
        "16 = 0.000335462627903\n",
        "17 = 0.000203468369011\n",
        "18 = 0.000123409804087\n",
        "19 = 7.48518298877e-05\n",
        "20 = 4.53999297625e-05\n"
       ]
      }
     ],
     "prompt_number": 147
    },
    {
     "cell_type": "code",
     "collapsed": false,
     "input": [
      "#Prob survive between x and y at M = .5\n",
      "#print probsurvive(.5,x) - probsurvive(.5,y)\n",
      "print probsurvive(.5,0) - probsurvive(.5,1)\n",
      "print probsurvive(.5,1) - probsurvive(.5,2)"
     ],
     "language": "python",
     "metadata": {},
     "outputs": [
      {
       "output_type": "stream",
       "stream": "stdout",
       "text": [
        "0.393469340287\n",
        "0.238651218541\n"
       ]
      }
     ],
     "prompt_number": 105
    },
    {
     "cell_type": "code",
     "collapsed": false,
     "input": [
      "#Probability that you die between t=1 and t=1.1\n",
      "print probsurvive(.5,1) - probsurvive(.5,1.1)"
     ],
     "language": "python",
     "metadata": {},
     "outputs": [
      {
       "output_type": "stream",
       "stream": "stdout",
       "text": [
        "0.0295808493321\n"
       ]
      }
     ],
     "prompt_number": 106
    },
    {
     "cell_type": "code",
     "collapsed": false,
     "input": [
      "math.e**(-.5*1.1)"
     ],
     "language": "python",
     "metadata": {},
     "outputs": [
      {
       "metadata": {},
       "output_type": "pyout",
       "prompt_number": 107,
       "text": [
        "0.5769498103804866"
       ]
      }
     ],
     "prompt_number": 107
    },
    {
     "cell_type": "code",
     "collapsed": false,
     "input": [
      "#density of deaths at time t = lim delta -> 0 1/delta*Pr[distance between t and t + delta]\n",
      "\n",
      "#t = e**(-m*t)\n",
      ".5*math.e**(-.5*1)"
     ],
     "language": "python",
     "metadata": {},
     "outputs": [
      {
       "metadata": {},
       "output_type": "pyout",
       "prompt_number": 108,
       "text": [
        "0.3032653298563167"
       ]
      }
     ],
     "prompt_number": 108
    },
    {
     "cell_type": "code",
     "collapsed": false,
     "input": [
      "#lim 1/delta e**-mt {1-(1+(-mdelta))}\n",
      "#m*e**(-m*t)\n",
      "def mortalityrate(deaths,personyears):\n",
      "    return deaths/personyears\n",
      "\n",
      "\n",
      "def integrand(x):\n",
      "    return mortalityrate(,)\n",
      "print scipy.integrate.quad(integrand,0,5)\n",
      "\n",
      "def deathdensity():\n",
      "    "
     ],
     "language": "python",
     "metadata": {},
     "outputs": []
    },
    {
     "cell_type": "code",
     "collapsed": false,
     "input": [
      "#Stephen\n",
      "x = numpy.linspace(0, 10, 100)\n",
      "plt.plot(x, 20000*(math.e**(-.3*x)), 'r-',label='Stephen Deaths')  \n",
      "plt.legend(loc='upper right')\n",
      "plt.xlabel('time')\n",
      "plt.ylabel('n alive')\n",
      "plt.title('Survival')\n",
      "pylab.ylim(ymin=0)"
     ],
     "language": "python",
     "metadata": {},
     "outputs": [
      {
       "metadata": {},
       "output_type": "pyout",
       "prompt_number": 110,
       "text": [
        "(0, 20000.0)"
       ]
      },
      {
       "metadata": {},
       "output_type": "display_data",
       "png": "[encoded data removed]",
       "text": [
        "<matplotlib.figure.Figure at 0x1078f6fd0>"
       ]
      }
     ],
     "prompt_number": 110
    },
    {
     "cell_type": "code",
     "collapsed": false,
     "input": [
      "import random\n",
      "def randomdeath(m,p):\n",
      "    return (-1/(m))*log(1-p)"
     ],
     "language": "python",
     "metadata": {},
     "outputs": [],
     "prompt_number": 78
    },
    {
     "cell_type": "code",
     "collapsed": false,
     "input": [],
     "language": "python",
     "metadata": {},
     "outputs": []
    }
   ],
   "metadata": {}
  }
 ]
}